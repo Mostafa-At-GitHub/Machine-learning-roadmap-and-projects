{
 "cells": [
  {
   "cell_type": "code",
   "execution_count": 7,
   "metadata": {},
   "outputs": [
    {
     "name": "stdout",
     "output_type": "stream",
     "text": [
      "(4, 4)\n",
      "(120, 2)\n"
     ]
    },
    {
     "data": {
      "image/png": "[encoded data removed]",
      "text/plain": [
       "<Figure size 432x288 with 1 Axes>"
      ]
     },
     "metadata": {
      "needs_background": "light"
     },
     "output_type": "display_data"
    },
    {
     "name": "stdout",
     "output_type": "stream",
     "text": [
      "Original Data Size: (120, 4) \n",
      "Modified Data Size: (120, 2)\n"
     ]
    }
   ],
   "source": [
    "import numpy as np\n",
    "import matplotlib.pyplot as plt\n",
    "from sklearn.model_selection import train_test_split\n",
    "from sklearn.datasets import load_iris\n",
    "\n",
    "class LDA:\n",
    "    def __init__(self, n_components=None):\n",
    "        self.n_components = n_components\n",
    "        self.eig_vectors = None\n",
    "    \n",
    "    def transform(self,X,y):\n",
    "        height, width = X.shape\n",
    "        unique_classes = np.unique(y)\n",
    "        num_classes = len(unique_classes)\n",
    "\n",
    "        scatter_t = np.cov(X.T)*(height - 1)\n",
    "        scatter_w = 0\n",
    "        for i in range(num_classes):\n",
    "            class_items = np.flatnonzero(y == unique_classes[i])\n",
    "            scatter_w = scatter_w + np.cov(X[class_items].T) * (len(class_items)-1)\n",
    "        \n",
    "        scatter_b = scatter_t - scatter_w\n",
    "        _, eig_vectors = np.linalg.eigh(np.linalg.pinv(scatter_w).dot(scatter_b))\n",
    "        print(eig_vectors.shape)\n",
    "        pc = X.dot(eig_vectors[:,::-1][:,:self.n_components])\n",
    "        print(pc.shape)\n",
    "\n",
    "        if self.n_components == 2:\n",
    "            if y is None:\n",
    "                plt.scatter(pc[:,0],pc[:,1])\n",
    "            else:\n",
    "                colors = ['r','g','b']\n",
    "                labels = np.unique(y)\n",
    "                for color, label in zip(colors, labels):\n",
    "                    class_data = pc[np.flatnonzero(y==label)]\n",
    "                    plt.scatter(class_data[:,0],class_data[:,1],c=color)\n",
    "            plt.show()\n",
    "        return pc\n",
    "\n",
    "LDA_obj = LDA(n_components=2)\n",
    "data = load_iris()\n",
    "X, y = data.data, data.target\n",
    "X_train, X_test, Y_train, Y_test = train_test_split(X, y, test_size=0.2)\n",
    "\n",
    "LDA_object = LDA(n_components=2)\n",
    "X_train_modified = LDA_object.transform(X_train, Y_train)\n",
    "\n",
    "print(\"Original Data Size:\",X_train.shape, \"\\nModified Data Size:\", X_train_modified.shape)"
   ]
  }
 ],
 "metadata": {
  "interpreter": {
   "hash": "bb6b83d8e7d0a3c9d49f417db21e3fc88b4535493e34520bf8db5bd1005a8adf"
  },
  "kernelspec": {
   "display_name": "Python 3.9.7 ('tf')",
   "language": "python",
   "name": "python3"
  },
  "language_info": {
   "codemirror_mode": {
    "name": "ipython",
    "version": 3
   },
   "file_extension": ".py",
   "mimetype": "text/x-python",
   "name": "python",
   "nbconvert_exporter": "python",
   "pygments_lexer": "ipython3",
   "version": "3.9.7"
  },
  "orig_nbformat": 4
 },
 "nbformat": 4,
 "nbformat_minor": 2
}
